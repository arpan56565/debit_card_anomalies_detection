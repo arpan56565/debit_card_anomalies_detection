{
 "cells": [
  {
   "cell_type": "code",
   "execution_count": 2,
   "id": "3b841150",
   "metadata": {},
   "outputs": [],
   "source": [
    "import pandas as pd\n",
    "from sklearn.ensemble import IsolationForest\n",
    "from sklearn.preprocessing import StandardScaler\n",
    "import matplotlib.pyplot as plt\n",
    "from sklearn.model_selection import train_test_split\n",
    "from sklearn.metrics import confusion_matrix, classification_report\n",
    "from matplotlib.pyplot import subplots\n",
    "from statsmodels.datasets import get_rdataset\n",
    "import sklearn.model_selection as skm\n",
    "from sklearn.model_selection import train_test_split\n",
    "from sklearn.ensemble import RandomForestClassifier\n",
    "from sklearn.metrics import roc_auc_score\n",
    "import numpy as np\n",
    "from sklearn.metrics import confusion_matrix, classification_report\n",
    "from sklearn.model_selection import GridSearchCV\n",
    "from sklearn.preprocessing import StandardScaler\n",
    "from sklearn.tree import DecisionTreeClassifier\n",
    "from sklearn.metrics import log_loss\n",
    "from scipy.stats import entropy\n",
    "from sklearn.metrics import accuracy_score\n",
    "from sklearn.tree import export_text\n",
    "from sklearn.tree import plot_tree\n",
    "from sklearn.model_selection import KFold, cross_val_score\n",
    "from sklearn.metrics import mean_squared_error\n",
    "from sklearn.impute import SimpleImputer\n",
    "#from sklearn.ensemble import RandomForestRegressor\n",
    "from sklearn.metrics import precision_score, recall_score, f1_score\n",
    "from sklearn.metrics import roc_curve, auc\n",
    "from sklearn.model_selection import train_test_split, RandomizedSearchCV\n",
    "from scipy.stats import randint\n",
    "from sklearn.metrics import make_scorer, confusion_matrix, classification_report\n",
    "from scipy.stats import norm"
   ]
  },
  {
   "cell_type": "code",
   "execution_count": 3,
   "id": "f80fbff0",
   "metadata": {},
   "outputs": [
    {
     "data": {
      "text/html": [
       "<div>\n",
       "<style scoped>\n",
       "    .dataframe tbody tr th:only-of-type {\n",
       "        vertical-align: middle;\n",
       "    }\n",
       "\n",
       "    .dataframe tbody tr th {\n",
       "        vertical-align: top;\n",
       "    }\n",
       "\n",
       "    .dataframe thead th {\n",
       "        text-align: right;\n",
       "    }\n",
       "</style>\n",
       "<table border=\"1\" class=\"dataframe\">\n",
       "  <thead>\n",
       "    <tr style=\"text-align: right;\">\n",
       "      <th></th>\n",
       "      <th>Time</th>\n",
       "      <th>V1</th>\n",
       "      <th>V2</th>\n",
       "      <th>V3</th>\n",
       "      <th>V4</th>\n",
       "      <th>V5</th>\n",
       "      <th>V6</th>\n",
       "      <th>V7</th>\n",
       "      <th>V8</th>\n",
       "      <th>V9</th>\n",
       "      <th>...</th>\n",
       "      <th>V21</th>\n",
       "      <th>V22</th>\n",
       "      <th>V23</th>\n",
       "      <th>V24</th>\n",
       "      <th>V25</th>\n",
       "      <th>V26</th>\n",
       "      <th>V27</th>\n",
       "      <th>V28</th>\n",
       "      <th>Amount</th>\n",
       "      <th>Class</th>\n",
       "    </tr>\n",
       "  </thead>\n",
       "  <tbody>\n",
       "    <tr>\n",
       "      <th>0</th>\n",
       "      <td>0.0</td>\n",
       "      <td>-1.359807</td>\n",
       "      <td>-0.072781</td>\n",
       "      <td>2.536347</td>\n",
       "      <td>1.378155</td>\n",
       "      <td>-0.338321</td>\n",
       "      <td>0.462388</td>\n",
       "      <td>0.239599</td>\n",
       "      <td>0.098698</td>\n",
       "      <td>0.363787</td>\n",
       "      <td>...</td>\n",
       "      <td>-0.018307</td>\n",
       "      <td>0.277838</td>\n",
       "      <td>-0.110474</td>\n",
       "      <td>0.066928</td>\n",
       "      <td>0.128539</td>\n",
       "      <td>-0.189115</td>\n",
       "      <td>0.133558</td>\n",
       "      <td>-0.021053</td>\n",
       "      <td>149.62</td>\n",
       "      <td>0</td>\n",
       "    </tr>\n",
       "    <tr>\n",
       "      <th>1</th>\n",
       "      <td>0.0</td>\n",
       "      <td>1.191857</td>\n",
       "      <td>0.266151</td>\n",
       "      <td>0.166480</td>\n",
       "      <td>0.448154</td>\n",
       "      <td>0.060018</td>\n",
       "      <td>-0.082361</td>\n",
       "      <td>-0.078803</td>\n",
       "      <td>0.085102</td>\n",
       "      <td>-0.255425</td>\n",
       "      <td>...</td>\n",
       "      <td>-0.225775</td>\n",
       "      <td>-0.638672</td>\n",
       "      <td>0.101288</td>\n",
       "      <td>-0.339846</td>\n",
       "      <td>0.167170</td>\n",
       "      <td>0.125895</td>\n",
       "      <td>-0.008983</td>\n",
       "      <td>0.014724</td>\n",
       "      <td>2.69</td>\n",
       "      <td>0</td>\n",
       "    </tr>\n",
       "    <tr>\n",
       "      <th>2</th>\n",
       "      <td>1.0</td>\n",
       "      <td>-1.358354</td>\n",
       "      <td>-1.340163</td>\n",
       "      <td>1.773209</td>\n",
       "      <td>0.379780</td>\n",
       "      <td>-0.503198</td>\n",
       "      <td>1.800499</td>\n",
       "      <td>0.791461</td>\n",
       "      <td>0.247676</td>\n",
       "      <td>-1.514654</td>\n",
       "      <td>...</td>\n",
       "      <td>0.247998</td>\n",
       "      <td>0.771679</td>\n",
       "      <td>0.909412</td>\n",
       "      <td>-0.689281</td>\n",
       "      <td>-0.327642</td>\n",
       "      <td>-0.139097</td>\n",
       "      <td>-0.055353</td>\n",
       "      <td>-0.059752</td>\n",
       "      <td>378.66</td>\n",
       "      <td>0</td>\n",
       "    </tr>\n",
       "    <tr>\n",
       "      <th>3</th>\n",
       "      <td>1.0</td>\n",
       "      <td>-0.966272</td>\n",
       "      <td>-0.185226</td>\n",
       "      <td>1.792993</td>\n",
       "      <td>-0.863291</td>\n",
       "      <td>-0.010309</td>\n",
       "      <td>1.247203</td>\n",
       "      <td>0.237609</td>\n",
       "      <td>0.377436</td>\n",
       "      <td>-1.387024</td>\n",
       "      <td>...</td>\n",
       "      <td>-0.108300</td>\n",
       "      <td>0.005274</td>\n",
       "      <td>-0.190321</td>\n",
       "      <td>-1.175575</td>\n",
       "      <td>0.647376</td>\n",
       "      <td>-0.221929</td>\n",
       "      <td>0.062723</td>\n",
       "      <td>0.061458</td>\n",
       "      <td>123.50</td>\n",
       "      <td>0</td>\n",
       "    </tr>\n",
       "    <tr>\n",
       "      <th>4</th>\n",
       "      <td>2.0</td>\n",
       "      <td>-1.158233</td>\n",
       "      <td>0.877737</td>\n",
       "      <td>1.548718</td>\n",
       "      <td>0.403034</td>\n",
       "      <td>-0.407193</td>\n",
       "      <td>0.095921</td>\n",
       "      <td>0.592941</td>\n",
       "      <td>-0.270533</td>\n",
       "      <td>0.817739</td>\n",
       "      <td>...</td>\n",
       "      <td>-0.009431</td>\n",
       "      <td>0.798278</td>\n",
       "      <td>-0.137458</td>\n",
       "      <td>0.141267</td>\n",
       "      <td>-0.206010</td>\n",
       "      <td>0.502292</td>\n",
       "      <td>0.219422</td>\n",
       "      <td>0.215153</td>\n",
       "      <td>69.99</td>\n",
       "      <td>0</td>\n",
       "    </tr>\n",
       "  </tbody>\n",
       "</table>\n",
       "<p>5 rows × 31 columns</p>\n",
       "</div>"
      ],
      "text/plain": [
       "   Time        V1        V2        V3        V4        V5        V6        V7  \\\n",
       "0   0.0 -1.359807 -0.072781  2.536347  1.378155 -0.338321  0.462388  0.239599   \n",
       "1   0.0  1.191857  0.266151  0.166480  0.448154  0.060018 -0.082361 -0.078803   \n",
       "2   1.0 -1.358354 -1.340163  1.773209  0.379780 -0.503198  1.800499  0.791461   \n",
       "3   1.0 -0.966272 -0.185226  1.792993 -0.863291 -0.010309  1.247203  0.237609   \n",
       "4   2.0 -1.158233  0.877737  1.548718  0.403034 -0.407193  0.095921  0.592941   \n",
       "\n",
       "         V8        V9  ...       V21       V22       V23       V24       V25  \\\n",
       "0  0.098698  0.363787  ... -0.018307  0.277838 -0.110474  0.066928  0.128539   \n",
       "1  0.085102 -0.255425  ... -0.225775 -0.638672  0.101288 -0.339846  0.167170   \n",
       "2  0.247676 -1.514654  ...  0.247998  0.771679  0.909412 -0.689281 -0.327642   \n",
       "3  0.377436 -1.387024  ... -0.108300  0.005274 -0.190321 -1.175575  0.647376   \n",
       "4 -0.270533  0.817739  ... -0.009431  0.798278 -0.137458  0.141267 -0.206010   \n",
       "\n",
       "        V26       V27       V28  Amount  Class  \n",
       "0 -0.189115  0.133558 -0.021053  149.62      0  \n",
       "1  0.125895 -0.008983  0.014724    2.69      0  \n",
       "2 -0.139097 -0.055353 -0.059752  378.66      0  \n",
       "3 -0.221929  0.062723  0.061458  123.50      0  \n",
       "4  0.502292  0.219422  0.215153   69.99      0  \n",
       "\n",
       "[5 rows x 31 columns]"
      ]
     },
     "execution_count": 3,
     "metadata": {},
     "output_type": "execute_result"
    }
   ],
   "source": [
    "data = pd.read_csv('creditcard_data.csv')\n",
    "data.head()"
   ]
  },
  {
   "cell_type": "code",
   "execution_count": 62,
   "id": "3e37892c",
   "metadata": {},
   "outputs": [
    {
     "data": {
      "text/plain": [
       "array([0, 1], dtype=int64)"
      ]
     },
     "execution_count": 62,
     "metadata": {},
     "output_type": "execute_result"
    }
   ],
   "source": [
    "x = data.drop(['Class','Time','Amount'], axis=1)\n",
    "data['Class'].unique()"
   ]
  },
  {
   "cell_type": "code",
   "execution_count": 63,
   "id": "0bacbbe3",
   "metadata": {},
   "outputs": [
    {
     "data": {
      "text/plain": [
       "0   -1.359807\n",
       "1    1.191857\n",
       "2   -1.358354\n",
       "3   -0.966272\n",
       "4   -1.158233\n",
       "Name: V1, dtype: float64"
      ]
     },
     "execution_count": 63,
     "metadata": {},
     "output_type": "execute_result"
    }
   ],
   "source": [
    "y=data['V1'].copy()\n",
    "y.head()"
   ]
  },
  {
   "cell_type": "code",
   "execution_count": 64,
   "id": "1e0be373",
   "metadata": {},
   "outputs": [],
   "source": [
    "#scaler = StandardScaler()\n",
    "#x_scaled = scaler.fit_transform(x)\n"
   ]
  },
  {
   "cell_type": "code",
   "execution_count": 65,
   "id": "ecb57d41",
   "metadata": {},
   "outputs": [],
   "source": [
    "mu, sigma = norm.fit(y)"
   ]
  },
  {
   "cell_type": "code",
   "execution_count": 66,
   "id": "b90675aa",
   "metadata": {},
   "outputs": [
    {
     "data": {
      "text/plain": [
       "(array([1.19300593e-06, 0.00000000e+00, 0.00000000e+00, 1.19300593e-06,\n",
       "        1.19300593e-06, 2.38601187e-06, 5.96502966e-06, 1.55090771e-05,\n",
       "        1.43160712e-05, 2.14741068e-05, 3.45971720e-05, 6.20363085e-05,\n",
       "        8.47034212e-05, 1.34809670e-04, 2.93479459e-04, 7.67102815e-04,\n",
       "        2.21183300e-03, 9.07638914e-03, 1.16463625e-01, 2.10583442e-01]),\n",
       " array([-56.40750963, -53.46438765, -50.52126567, -47.57814369,\n",
       "        -44.63502171, -41.69189972, -38.74877774, -35.80565576,\n",
       "        -32.86253378, -29.9194118 , -26.97628982, -24.03316784,\n",
       "        -21.09004586, -18.14692388, -15.2038019 , -12.26067991,\n",
       "         -9.31755793,  -6.37443595,  -3.43131397,  -0.48819199,\n",
       "          2.45492999]),\n",
       " <BarContainer object of 20 artists>)"
      ]
     },
     "execution_count": 66,
     "metadata": {},
     "output_type": "execute_result"
    },
    {
     "data": {
      "image/png": "[encoded data removed]",
      "text/plain": [
       "<Figure size 640x480 with 1 Axes>"
      ]
     },
     "metadata": {},
     "output_type": "display_data"
    }
   ],
   "source": [
    "plt.hist(y, bins=20, density=True, alpha=0.6)\n"
   ]
  },
  {
   "cell_type": "code",
   "execution_count": 67,
   "id": "8a10871d",
   "metadata": {},
   "outputs": [
    {
     "data": {
      "text/plain": [
       "[<matplotlib.lines.Line2D at 0x2752d232d30>]"
      ]
     },
     "execution_count": 67,
     "metadata": {},
     "output_type": "execute_result"
    },
    {
     "data": {
      "image/png": "[encoded data removed]",
      "text/plain": [
       "<Figure size 640x480 with 1 Axes>"
      ]
     },
     "metadata": {},
     "output_type": "display_data"
    }
   ],
   "source": [
    "z = np.linspace(y.min(), y.max(), 100)\n",
    "\n",
    "    # Calculate the corresponding Gaussian distribution values\n",
    "p = norm.pdf(z, mu, sigma)\n",
    "\n",
    "# Plot the Gaussian distribution curve\n",
    "plt.plot(z, p, 'k', linewidth=2)"
   ]
  },
  {
   "cell_type": "code",
   "execution_count": 68,
   "id": "9df8ba7b",
   "metadata": {},
   "outputs": [
    {
     "data": {
      "text/plain": [
       "Index(['V1', 'V2', 'V3', 'V4', 'V5', 'V6', 'V7', 'V8', 'V9', 'V10', 'V11',\n",
       "       'V12', 'V13', 'V14', 'V15', 'V16', 'V17', 'V18', 'V19', 'V20', 'V21',\n",
       "       'V22', 'V23', 'V24', 'V25', 'V26', 'V27', 'V28'],\n",
       "      dtype='object')"
      ]
     },
     "execution_count": 68,
     "metadata": {},
     "output_type": "execute_result"
    }
   ],
   "source": [
    "x.columns"
   ]
  },
  {
   "cell_type": "code",
   "execution_count": 69,
   "id": "52c7e776",
   "metadata": {},
   "outputs": [],
   "source": [
    "anomaly_probabilities = {}"
   ]
  },
  {
   "cell_type": "code",
   "execution_count": 178,
   "id": "1218bfd6",
   "metadata": {},
   "outputs": [
    {
     "name": "stdout",
     "output_type": "stream",
     "text": [
      "[0.16006051 0.16925481 0.16014293 ... 0.1899108  0.12600446 0.20214869]\n",
      "[0.24135706 0.23847393 0.17380261 ... 0.24145724 0.23760453 0.22944151]\n",
      "[0.06494165 0.26152916 0.13278687 ... 0.10690045 0.02646755 0.23633267]\n",
      "[0.17545038 0.26799839 0.27180917 ... 0.24592176 0.26072389 0.25023402]\n",
      "[0.28048311 0.28876381 0.27045302 ... 0.2371539  0.04701474 0.27840069]\n",
      "[0.28194296 0.29887372 0.1201479  ... 0.21840743 0.02250044 0.26836522]\n",
      "[0.31649206 0.3218309  0.26280048 ... 0.32242204 0.31333424 0.27650433]\n",
      "[0.33288533 0.33317704 0.32691854 ... 0.3239977  0.28014468 0.2841615 ]\n",
      "[0.34375462 0.35344395 0.14038424 ... 0.31515972 0.33605622 0.34072195]\n",
      "[0.36511771 0.36210623 0.35978748 ... 0.24518765 0.33181662 0.3425826 ]\n",
      "[0.3377464  0.1121815  0.32413222 ... 0.38663895 0.36032578 0.06494484]\n",
      "[0.32979508 0.22618322 0.3983889  ... 0.26232878 0.39846533 0.25096146]\n",
      "[0.24406834 0.35524532 0.30915754 ... 0.19032162 0.3940668  0.23169398]\n",
      "[0.39481485 0.41151907 0.40998416 ... 0.32475799 0.36113118 0.37282207]\n",
      "[0.12040688 0.34248751 0.01633107 ... 0.19391276 0.15183012 0.0437565 ]\n",
      "[0.39418586 0.39574439 0.00197734 ... 0.32734738 0.44944945 0.35771479]\n",
      "[0.45583852 0.46543905 0.19997051 ... 0.46949579 0.43877881 0.39224541]\n",
      "[0.47573945 0.46471088 0.47100175 ... 0.16467871 0.4257842  0.19679287]\n",
      "[0.4332934  0.48228056 0.01032296 ... 0.08081597 0.38112832 0.00086793]\n",
      "[0.49068601 0.51541193 0.41039385 ... 0.51594037 0.51748456 0.51046347]\n",
      "[0.54296182 0.51806972 0.51303893 ... 0.52051916 0.51669301 0.50884752]\n",
      "[0.51088507 0.37322074 0.31233185 ... 0.24424494 0.40021306 0.29938575]\n",
      "[0.62894041 0.63051061 0.22124056 ... 0.63873248 0.63770886 0.61738551]\n",
      "[0.65469451 0.56275335 0.34469159 ... 0.16118802 0.37679876 0.64521476]\n",
      "[0.74240021 0.72695794 0.62813729 ... 0.38883574 0.67205833 0.42166598]\n",
      "[0.76605995 0.79957856 0.79358395 ... 0.59125339 0.81382674 0.43511069]\n",
      "[0.93572609 0.98813524 0.97912958 ... 0.97426005 0.98831979 0.95310417]\n",
      "[1.20615524 1.20740918 1.18897028 ... 1.19282372 1.20470455 1.14949956]\n",
      "[nan nan nan ... nan nan nan]\n",
      "[0.00288671 0.00266303 0.00497495 ... 0.00471722 0.00314049 0.00391288]\n",
      "[401011.68473586 385072.97577076 400943.50422746 ... 299895.00062917\n",
      " 318833.68174614 233127.77966873]\n",
      "[306181.73095634 318025.94808254 366946.77943625 ... 305763.37507736\n",
      " 321516.53836578 351985.39704256]\n",
      "[ 50452.51152396 198481.55934257 216694.78448914 ... 140450.27567756\n",
      "  13920.25589196 270974.87975638]\n"
     ]
    },
    {
     "name": "stderr",
     "output_type": "stream",
     "text": [
      "E:\\python anaconda\\lib\\site-packages\\scipy\\stats\\_distn_infrastructure.py:2085: RuntimeWarning: invalid value encountered in divide\n",
      "  x = np.asarray((x - loc)/scale, dtype=dtyp)\n"
     ]
    },
    {
     "name": "stdout",
     "output_type": "stream",
     "text": [
      "[278090.16459148 228421.17184451 219812.5564701  ... 272206.82562496\n",
      " 244170.61717724 264708.91653131]\n",
      "[277772.71091118 253931.10195514 304228.56264145 ... 358017.83888683\n",
      "  15037.2561958  283521.64118725]\n",
      "[279033.24139452 240381.43805349 119986.98063073 ... 326929.27837675\n",
      "   9878.29246155 304418.91693917]\n",
      "[323118.41040304 305058.44185795 421673.65693828 ... 303017.26183837\n",
      " 333417.40626169 415825.33906979]\n",
      "[443101.45262211 442151.1002283  461118.83831187 ... 468878.38631105\n",
      " 481945.80392706 489172.33422501]\n",
      "[229508.89706755 212697.27474811 134750.67993491 ... 272230.45643247\n",
      " 242209.97750262 234593.85024349]\n",
      "[264891.10643196 272242.81581488 277825.15787576 ... 324979.88324423\n",
      " 336406.85680298 316201.4231374 ]\n",
      "[246502.06770071  89415.1923136  265500.26029654 ... 163575.48393579\n",
      " 209740.47720738  39489.25603434]\n",
      "[317991.08524468 248346.34106018 221141.23534493 ... 301820.61110246\n",
      " 221000.00533815 287455.59972672]\n",
      "[270510.01985645 238345.28450047 283102.36971183 ... 201959.72454937\n",
      " 180789.01122296 258123.55569851]\n",
      "[270528.70014827 242238.31099513 244945.4700652  ... 334271.1510662\n",
      " 315082.39000211 302041.99392353]\n",
      "[ 84345.71335243 282852.49134678  14641.88228995 ... 184258.90292843\n",
      " 123358.92160078  24993.89092122]\n",
      "[277484.47953073 275904.92095034   8284.20403459 ... 306163.37116691\n",
      " 206077.62440277 303358.92280246]\n",
      "[275738.18390934 256565.91642113 119645.97018919 ... 248312.02130911\n",
      " 307679.6588161  367963.45472607]\n",
      "[187660.19236389 202446.91272856 194037.98623289 ... 115063.84677411\n",
      " 250489.46633464 155752.73667845]\n",
      "[261494.32256781 204632.45462775  11526.31630204 ...  37225.64750312\n",
      " 295609.09919997   9655.70252481]\n",
      "[457176.95975438 418469.1162539  429713.73778483 ... 417447.85452275\n",
      " 414422.90284281 427674.19439372]\n",
      "[477289.0691882  529288.15816493 536450.96492787 ... 525358.29295055\n",
      " 531371.16383945 541454.79673098]\n",
      "[212094.5343953  306269.66006512 268136.01608379 ... 186451.41287365\n",
      " 306566.6716027  254642.1748294 ]\n",
      "[490436.99263888 487465.32015853   7112.33913644 ... 470874.39187473\n",
      " 473030.15971167 510167.63336212]\n",
      "[177804.56483733 257488.85653422 229246.99191355 ...  70319.48115342\n",
      " 254610.12876981 186860.76941999]\n",
      "[207187.46826448 221711.68309496 297294.60960104 ... 221446.98473732\n",
      " 268887.17999781 250830.45569077]\n",
      "[221473.18583066 197176.61784258 201623.71576419 ... 290192.0206675\n",
      " 186499.6363142  229399.58395747]\n",
      "[427734.18619333 387202.3153379  395466.17953702 ... 399730.59585851\n",
      " 387028.04435742 416438.27496359]\n",
      "[459456.62473229 458267.96435735 474739.77164446 ... 471481.53919016\n",
      " 460819.7723828  501854.96863619]\n"
     ]
    },
    {
     "ename": "ValueError",
     "evalue": "Length of values (0) does not match length of index (284806)",
     "output_type": "error",
     "traceback": [
      "\u001b[1;31m---------------------------------------------------------------------------\u001b[0m",
      "\u001b[1;31mValueError\u001b[0m                                Traceback (most recent call last)",
      "\u001b[1;32m~\\AppData\\Local\\Temp\\ipykernel_14260\\2034018493.py\u001b[0m in \u001b[0;36m<module>\u001b[1;34m\u001b[0m\n\u001b[0;32m      6\u001b[0m     \u001b[0mprobabilities\u001b[0m \u001b[1;33m=\u001b[0m \u001b[0mpdf_values\u001b[0m \u001b[1;33m/\u001b[0m \u001b[0mpdf_values\u001b[0m\u001b[1;33m.\u001b[0m\u001b[0msum\u001b[0m\u001b[1;33m(\u001b[0m\u001b[1;33m)\u001b[0m\u001b[1;33m\u001b[0m\u001b[1;33m\u001b[0m\u001b[0m\n\u001b[0;32m      7\u001b[0m \u001b[1;33m\u001b[0m\u001b[0m\n\u001b[1;32m----> 8\u001b[1;33m     \u001b[0mx\u001b[0m\u001b[1;33m[\u001b[0m\u001b[1;34mf'{column}_probabilities'\u001b[0m\u001b[1;33m]\u001b[0m \u001b[1;33m=\u001b[0m \u001b[0mprobabilities\u001b[0m\u001b[1;33m\u001b[0m\u001b[1;33m\u001b[0m\u001b[0m\n\u001b[0m\u001b[0;32m      9\u001b[0m     \u001b[1;31m#anomaly_probabilities[column] = 1 - pdf_values\u001b[0m\u001b[1;33m\u001b[0m\u001b[1;33m\u001b[0m\u001b[0m\n\u001b[0;32m     10\u001b[0m     \u001b[0mprint\u001b[0m\u001b[1;33m(\u001b[0m \u001b[0mpdf_values\u001b[0m\u001b[1;33m)\u001b[0m\u001b[1;33m\u001b[0m\u001b[1;33m\u001b[0m\u001b[0m\n",
      "\u001b[1;32mE:\\python anaconda\\lib\\site-packages\\pandas\\core\\frame.py\u001b[0m in \u001b[0;36m__setitem__\u001b[1;34m(self, key, value)\u001b[0m\n\u001b[0;32m   3653\u001b[0m         \u001b[1;32melse\u001b[0m\u001b[1;33m:\u001b[0m\u001b[1;33m\u001b[0m\u001b[1;33m\u001b[0m\u001b[0m\n\u001b[0;32m   3654\u001b[0m             \u001b[1;31m# set column\u001b[0m\u001b[1;33m\u001b[0m\u001b[1;33m\u001b[0m\u001b[0m\n\u001b[1;32m-> 3655\u001b[1;33m             \u001b[0mself\u001b[0m\u001b[1;33m.\u001b[0m\u001b[0m_set_item\u001b[0m\u001b[1;33m(\u001b[0m\u001b[0mkey\u001b[0m\u001b[1;33m,\u001b[0m \u001b[0mvalue\u001b[0m\u001b[1;33m)\u001b[0m\u001b[1;33m\u001b[0m\u001b[1;33m\u001b[0m\u001b[0m\n\u001b[0m\u001b[0;32m   3656\u001b[0m \u001b[1;33m\u001b[0m\u001b[0m\n\u001b[0;32m   3657\u001b[0m     \u001b[1;32mdef\u001b[0m \u001b[0m_setitem_slice\u001b[0m\u001b[1;33m(\u001b[0m\u001b[0mself\u001b[0m\u001b[1;33m,\u001b[0m \u001b[0mkey\u001b[0m\u001b[1;33m:\u001b[0m \u001b[0mslice\u001b[0m\u001b[1;33m,\u001b[0m \u001b[0mvalue\u001b[0m\u001b[1;33m)\u001b[0m\u001b[1;33m:\u001b[0m\u001b[1;33m\u001b[0m\u001b[1;33m\u001b[0m\u001b[0m\n",
      "\u001b[1;32mE:\\python anaconda\\lib\\site-packages\\pandas\\core\\frame.py\u001b[0m in \u001b[0;36m_set_item\u001b[1;34m(self, key, value)\u001b[0m\n\u001b[0;32m   3830\u001b[0m         \u001b[0mensure\u001b[0m \u001b[0mhomogeneity\u001b[0m\u001b[1;33m.\u001b[0m\u001b[1;33m\u001b[0m\u001b[1;33m\u001b[0m\u001b[0m\n\u001b[0;32m   3831\u001b[0m         \"\"\"\n\u001b[1;32m-> 3832\u001b[1;33m         \u001b[0mvalue\u001b[0m \u001b[1;33m=\u001b[0m \u001b[0mself\u001b[0m\u001b[1;33m.\u001b[0m\u001b[0m_sanitize_column\u001b[0m\u001b[1;33m(\u001b[0m\u001b[0mvalue\u001b[0m\u001b[1;33m)\u001b[0m\u001b[1;33m\u001b[0m\u001b[1;33m\u001b[0m\u001b[0m\n\u001b[0m\u001b[0;32m   3833\u001b[0m \u001b[1;33m\u001b[0m\u001b[0m\n\u001b[0;32m   3834\u001b[0m         if (\n",
      "\u001b[1;32mE:\\python anaconda\\lib\\site-packages\\pandas\\core\\frame.py\u001b[0m in \u001b[0;36m_sanitize_column\u001b[1;34m(self, value)\u001b[0m\n\u001b[0;32m   4536\u001b[0m \u001b[1;33m\u001b[0m\u001b[0m\n\u001b[0;32m   4537\u001b[0m         \u001b[1;32mif\u001b[0m \u001b[0mis_list_like\u001b[0m\u001b[1;33m(\u001b[0m\u001b[0mvalue\u001b[0m\u001b[1;33m)\u001b[0m\u001b[1;33m:\u001b[0m\u001b[1;33m\u001b[0m\u001b[1;33m\u001b[0m\u001b[0m\n\u001b[1;32m-> 4538\u001b[1;33m             \u001b[0mcom\u001b[0m\u001b[1;33m.\u001b[0m\u001b[0mrequire_length_match\u001b[0m\u001b[1;33m(\u001b[0m\u001b[0mvalue\u001b[0m\u001b[1;33m,\u001b[0m \u001b[0mself\u001b[0m\u001b[1;33m.\u001b[0m\u001b[0mindex\u001b[0m\u001b[1;33m)\u001b[0m\u001b[1;33m\u001b[0m\u001b[1;33m\u001b[0m\u001b[0m\n\u001b[0m\u001b[0;32m   4539\u001b[0m         \u001b[1;32mreturn\u001b[0m \u001b[0msanitize_array\u001b[0m\u001b[1;33m(\u001b[0m\u001b[0mvalue\u001b[0m\u001b[1;33m,\u001b[0m \u001b[0mself\u001b[0m\u001b[1;33m.\u001b[0m\u001b[0mindex\u001b[0m\u001b[1;33m,\u001b[0m \u001b[0mcopy\u001b[0m\u001b[1;33m=\u001b[0m\u001b[1;32mTrue\u001b[0m\u001b[1;33m,\u001b[0m \u001b[0mallow_2d\u001b[0m\u001b[1;33m=\u001b[0m\u001b[1;32mTrue\u001b[0m\u001b[1;33m)\u001b[0m\u001b[1;33m\u001b[0m\u001b[1;33m\u001b[0m\u001b[0m\n\u001b[0;32m   4540\u001b[0m \u001b[1;33m\u001b[0m\u001b[0m\n",
      "\u001b[1;32mE:\\python anaconda\\lib\\site-packages\\pandas\\core\\common.py\u001b[0m in \u001b[0;36mrequire_length_match\u001b[1;34m(data, index)\u001b[0m\n\u001b[0;32m    555\u001b[0m     \"\"\"\n\u001b[0;32m    556\u001b[0m     \u001b[1;32mif\u001b[0m \u001b[0mlen\u001b[0m\u001b[1;33m(\u001b[0m\u001b[0mdata\u001b[0m\u001b[1;33m)\u001b[0m \u001b[1;33m!=\u001b[0m \u001b[0mlen\u001b[0m\u001b[1;33m(\u001b[0m\u001b[0mindex\u001b[0m\u001b[1;33m)\u001b[0m\u001b[1;33m:\u001b[0m\u001b[1;33m\u001b[0m\u001b[1;33m\u001b[0m\u001b[0m\n\u001b[1;32m--> 557\u001b[1;33m         raise ValueError(\n\u001b[0m\u001b[0;32m    558\u001b[0m             \u001b[1;34m\"Length of values \"\u001b[0m\u001b[1;33m\u001b[0m\u001b[1;33m\u001b[0m\u001b[0m\n\u001b[0;32m    559\u001b[0m             \u001b[1;34mf\"({len(data)}) \"\u001b[0m\u001b[1;33m\u001b[0m\u001b[1;33m\u001b[0m\u001b[0m\n",
      "\u001b[1;31mValueError\u001b[0m: Length of values (0) does not match length of index (284806)"
     ]
    }
   ],
   "source": [
    "for column in x.columns:\n",
    "    feature_data = x[column].dropna() \n",
    "    feature_data.head()\n",
    "    mu, sigma = norm.fit(feature_data)\n",
    "    pdf_values = norm.pdf(feature_data, mu, sigma)\n",
    "    probabilities = pdf_values / pdf_values.sum()\n",
    "   \n",
    "    x[f'{column}_probabilities'] = probabilities\n",
    "    #anomaly_probabilities[column] = 1 - pdf_values\n",
    "    print( pdf_values)\n",
    "\n",
    "prob_cols = [col for col in x.columns if col.endswith('_probabilities')]\n",
    "x['joint_probability'] = np.prod(x[prob_cols], axis=1)\n",
    "print(x[['joint_probability']])\n",
    "#x['pdf_values'] = np.prod(x.filter(like='_pdf_values'), axis=1)\n",
    "\n",
    "#x['pdf_values'] = np.prod([pdf_values for column in x.columns], axis=1)\n",
    "#print(x[['pdf_values']])\n",
    "   # print( anomaly_probabilities[column])"
   ]
  },
  {
   "cell_type": "code",
   "execution_count": 189,
   "id": "8fc8cbfd",
   "metadata": {},
   "outputs": [
    {
     "name": "stdout",
     "output_type": "stream",
     "text": [
      "0\n"
     ]
    }
   ],
   "source": [
    "missing_values = x['joint_probability'] .isnull().sum()\n",
    "print(missing_values)"
   ]
  },
  {
   "cell_type": "code",
   "execution_count": 190,
   "id": "4cf816eb",
   "metadata": {},
   "outputs": [],
   "source": [
    " x['joint_probability_scaled']  =  x['joint_probability']  /  x['joint_probability'] .sum()"
   ]
  },
  {
   "cell_type": "code",
   "execution_count": 191,
   "id": "135b5ec6",
   "metadata": {},
   "outputs": [],
   "source": [
    "#x['Anomaly_Probability'] =  -  (x['pdf_values']) \n",
    "#print(x['Anomaly_Probability'])"
   ]
  },
  {
   "cell_type": "code",
   "execution_count": 192,
   "id": "8d0b51d7",
   "metadata": {},
   "outputs": [],
   "source": [
    "#x['Anomaly_Probability'] = np.prod([anomaly_probabilities[column] for column in x.columns], axis=0)\n",
    "#print(x[['Anomaly_Probability']])\n",
    "\n"
   ]
  },
  {
   "cell_type": "code",
   "execution_count": 193,
   "id": "816e8268",
   "metadata": {},
   "outputs": [
    {
     "data": {
      "text/plain": [
       "count    2.848060e+05\n",
       "mean     3.511162e-06\n",
       "std      8.043658e-06\n",
       "min      0.000000e+00\n",
       "25%      1.862574e-09\n",
       "50%      1.388442e-07\n",
       "75%      2.437809e-06\n",
       "max      1.343834e-04\n",
       "Name: joint_probability_scaled, dtype: float64"
      ]
     },
     "execution_count": 193,
     "metadata": {},
     "output_type": "execute_result"
    }
   ],
   "source": [
    " x['joint_probability_scaled'] .describe()"
   ]
  },
  {
   "cell_type": "code",
   "execution_count": 377,
   "id": "e26b8278",
   "metadata": {},
   "outputs": [
    {
     "name": "stderr",
     "output_type": "stream",
     "text": [
      "E:\\python anaconda\\lib\\site-packages\\pandas\\core\\arraylike.py:397: RuntimeWarning: divide by zero encountered in log\n",
      "  result = getattr(ufunc, method)(*inputs, **kwargs)\n"
     ]
    }
   ],
   "source": [
    "x['log_joint_probability_scaled'] = - np.log(x['joint_probability_scaled'])"
   ]
  },
  {
   "cell_type": "code",
   "execution_count": 379,
   "id": "f2bfa609",
   "metadata": {},
   "outputs": [
    {
     "data": {
      "text/plain": [
       "count    2.848060e+05\n",
       "mean              inf\n",
       "std               NaN\n",
       "min      8.914814e+00\n",
       "25%      1.292441e+01\n",
       "50%      1.578991e+01\n",
       "75%      2.010131e+01\n",
       "max               inf\n",
       "Name: log_joint_probability_scaled, dtype: float64"
      ]
     },
     "execution_count": 379,
     "metadata": {},
     "output_type": "execute_result"
    }
   ],
   "source": [
    " x['log_joint_probability_scaled'] .describe()"
   ]
  },
  {
   "cell_type": "code",
   "execution_count": 434,
   "id": "823dcf16",
   "metadata": {},
   "outputs": [
    {
     "ename": "OverflowError",
     "evalue": "(34, 'Result too large')",
     "output_type": "error",
     "traceback": [
      "\u001b[1;31m---------------------------------------------------------------------------\u001b[0m",
      "\u001b[1;31mOverflowError\u001b[0m                             Traceback (most recent call last)",
      "\u001b[1;32m~\\AppData\\Local\\Temp\\ipykernel_14260\\1662305800.py\u001b[0m in \u001b[0;36m<module>\u001b[1;34m\u001b[0m\n\u001b[1;32m----> 1\u001b[1;33m \u001b[0mthreshold\u001b[0m \u001b[1;33m=\u001b[0m  \u001b[1;36m2.010131e+01\u001b[0m\u001b[1;33m**\u001b[0m\u001b[1;36m1000\u001b[0m\u001b[1;33m\u001b[0m\u001b[1;33m\u001b[0m\u001b[0m\n\u001b[0m\u001b[0;32m      2\u001b[0m \u001b[0mx\u001b[0m\u001b[1;33m[\u001b[0m\u001b[1;34m'Is_Anomaly'\u001b[0m\u001b[1;33m]\u001b[0m \u001b[1;33m=\u001b[0m \u001b[0mx\u001b[0m\u001b[1;33m[\u001b[0m\u001b[1;34m'log_joint_probability_scaled'\u001b[0m\u001b[1;33m]\u001b[0m \u001b[1;33m>\u001b[0m \u001b[0mthreshold\u001b[0m\u001b[1;33m\u001b[0m\u001b[1;33m\u001b[0m\u001b[0m\n\u001b[0;32m      3\u001b[0m \u001b[0mprint\u001b[0m\u001b[1;33m(\u001b[0m\u001b[0mx\u001b[0m\u001b[1;33m[\u001b[0m\u001b[1;33m[\u001b[0m\u001b[1;34m'Is_Anomaly'\u001b[0m\u001b[1;33m]\u001b[0m\u001b[1;33m]\u001b[0m\u001b[1;33m)\u001b[0m\u001b[1;33m\u001b[0m\u001b[1;33m\u001b[0m\u001b[0m\n",
      "\u001b[1;31mOverflowError\u001b[0m: (34, 'Result too large')"
     ]
    }
   ],
   "source": [
    "threshold =  2.010131e+01**1000\n",
    "x['Is_Anomaly'] = x['log_joint_probability_scaled'] > threshold\n",
    "print(x[['Is_Anomaly']])\n"
   ]
  },
  {
   "cell_type": "code",
   "execution_count": 435,
   "id": "0d63e638",
   "metadata": {},
   "outputs": [],
   "source": [
    "y=data['Class'].copy()"
   ]
  },
  {
   "cell_type": "code",
   "execution_count": 436,
   "id": "3d1f4fb9",
   "metadata": {},
   "outputs": [
    {
     "name": "stdout",
     "output_type": "stream",
     "text": [
      " Anomalies: 0         0\n",
      "1         0\n",
      "2         0\n",
      "3         0\n",
      "4         0\n",
      "         ..\n",
      "284801    0\n",
      "284802    0\n",
      "284803    0\n",
      "284804    0\n",
      "284805    0\n",
      "Name: Is_Anomaly, Length: 284806, dtype: int32\n"
     ]
    }
   ],
   "source": [
    "anomaly_count = x['Is_Anomaly'].astype(int)\n",
    "\n",
    "print(f\" Anomalies: {anomaly_count}\")"
   ]
  },
  {
   "cell_type": "code",
   "execution_count": 437,
   "id": "de23c781",
   "metadata": {},
   "outputs": [
    {
     "data": {
      "text/plain": [
       "0.001836337717604264"
      ]
     },
     "execution_count": 437,
     "metadata": {},
     "output_type": "execute_result"
    }
   ],
   "source": [
    " sum(anomaly_count)/len(y)"
   ]
  },
  {
   "cell_type": "code",
   "execution_count": 438,
   "id": "d6117035",
   "metadata": {},
   "outputs": [
    {
     "data": {
      "text/plain": [
       "0.001727491696101908"
      ]
     },
     "execution_count": 438,
     "metadata": {},
     "output_type": "execute_result"
    }
   ],
   "source": [
    "sum(y)/len(y)"
   ]
  },
  {
   "cell_type": "code",
   "execution_count": 439,
   "id": "28a562ce",
   "metadata": {},
   "outputs": [
    {
     "name": "stdout",
     "output_type": "stream",
     "text": [
      "[[283911    403]\n",
      " [   372    120]]\n",
      "              precision    recall  f1-score   support\n",
      "\n",
      "           0       1.00      1.00      1.00    284314\n",
      "           1       0.23      0.24      0.24       492\n",
      "\n",
      "    accuracy                           1.00    284806\n",
      "   macro avg       0.61      0.62      0.62    284806\n",
      "weighted avg       1.00      1.00      1.00    284806\n",
      "\n"
     ]
    }
   ],
   "source": [
    "print(confusion_matrix(y, anomaly_count ))\n",
    "print(classification_report(y, anomaly_count))"
   ]
  },
  {
   "cell_type": "code",
   "execution_count": null,
   "id": "608812d0",
   "metadata": {},
   "outputs": [],
   "source": []
  },
  {
   "cell_type": "code",
   "execution_count": null,
   "id": "81a580a5",
   "metadata": {},
   "outputs": [],
   "source": []
  },
  {
   "cell_type": "code",
   "execution_count": null,
   "id": "ef9c214b",
   "metadata": {},
   "outputs": [],
   "source": []
  }
 ],
 "metadata": {
  "kernelspec": {
   "display_name": "Python 3 (ipykernel)",
   "language": "python",
   "name": "python3"
  },
  "language_info": {
   "codemirror_mode": {
    "name": "ipython",
    "version": 3
   },
   "file_extension": ".py",
   "mimetype": "text/x-python",
   "name": "python",
   "nbconvert_exporter": "python",
   "pygments_lexer": "ipython3",
   "version": "3.9.13"
  }
 },
 "nbformat": 4,
 "nbformat_minor": 5
}
